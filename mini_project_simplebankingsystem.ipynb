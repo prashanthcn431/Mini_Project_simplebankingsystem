{
  "nbformat": 4,
  "nbformat_minor": 0,
  "metadata": {
    "colab": {
      "provenance": []
    },
    "kernelspec": {
      "name": "python3",
      "display_name": "Python 3"
    },
    "language_info": {
      "name": "python"
    }
  },
  "cells": [
    {
      "cell_type": "code",
      "execution_count": null,
      "metadata": {
        "colab": {
          "base_uri": "https://localhost:8080/"
        },
        "id": "BaxdLYqldjb4",
        "outputId": "ee2b1918-746f-4599-d0ff-1b7a9475b95f"
      },
      "outputs": [
        {
          "output_type": "stream",
          "name": "stdout",
          "text": [
            "Welcome to the Banking System\n",
            "Please select the account type\n",
            "1)savings,2)current,3)exit 3\n",
            "exit,Thank you for using the banking system\n"
          ]
        }
      ],
      "source": [
        "try:\n",
        "    print(\"Welcome to the Banking System\")\n",
        "    print(\"Please select the account type\")\n",
        "    choice = input(\"1)savings,2)current,3)exit \")\n",
        "    if choice == \"1\":\n",
        "     print(f\"Your choice is {choice}\")\n",
        "     while choice == \"1\":\n",
        "       print(\"Please enter your account details\")\n",
        "       acc_no = int(input(\"Please enter account number : \"))\n",
        "       acc_bal = float(input(\"Please enter account balance :\"))\n",
        "       print(f\"Your account no is {acc_no} and your account balance is {acc_bal}\")\n",
        "       with_amt = float(input(\"Please enter amount to withdraw : \"))\n",
        "       print(\"please collect your cash...\")\n",
        "       new_bal = acc_bal-with_amt\n",
        "       print(f\"Your new balance is {new_bal}:\")\n",
        "       break\n",
        "\n",
        "    elif choice == \"2\":\n",
        "        print(f\"Your choice is {choice}\")\n",
        "    while choice == \"2\":\n",
        "       print(\"Please enter your account details\")\n",
        "       acc_no = int(input(\"Please enter account number : \"))\n",
        "       acc_bal = float(input(\"Please enter account balance :\"))\n",
        "       print(f\"Your account no is {acc_no} and your account balance is {acc_bal}\")\n",
        "       with_amt = float(input(\"Please enter amount to withdraw : \"))\n",
        "       print(\"please collect your cash...\")\n",
        "       new_bal = acc_bal-with_amt\n",
        "       print(f\"Your new balance is {new_bal}:\")\n",
        "       break\n",
        "\n",
        "    if choice == \"3\":\n",
        "      print(\"exit,Thank you for using the banking system\")\n",
        "\n",
        "\n",
        "    if acc_no == 123:\n",
        "     if acc_bal<=0:\n",
        "      print(\"Please enter correct withdrawal amount...\")\n",
        "    elif with_amt>acc_bal:\n",
        "      print(\"Insuffient balance..\")\n",
        "    else:\n",
        "      print(\"Please collect your cash...\")\n",
        "      new_bal = acc_bal-with_amt\n",
        "      print(f\"Your new balance is {new_bal}\")\n",
        "\n",
        "      print(\"Please enter correct account no...\")\n",
        "\n",
        "\n",
        "except ValueError:\n",
        "     print(\"Invalid input. Please enter a valid number.\")"
      ]
    },
    {
      "cell_type": "code",
      "source": [],
      "metadata": {
        "id": "Ep4hByycd8qp"
      },
      "execution_count": null,
      "outputs": []
    }
  ]
}