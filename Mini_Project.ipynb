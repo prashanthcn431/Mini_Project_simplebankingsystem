{
  "nbformat": 4,
  "nbformat_minor": 0,
  "metadata": {
    "colab": {
      "provenance": []
    },
    "kernelspec": {
      "name": "python3",
      "display_name": "Python 3"
    },
    "language_info": {
      "name": "python"
    }
  },
  "cells": [
    {
      "cell_type": "markdown",
      "source": [
        "Mini project : Simple Banking System"
      ],
      "metadata": {
        "id": "x-lz69rKpxFf"
      }
    },
    {
      "cell_type": "code",
      "execution_count": null,
      "metadata": {
        "colab": {
          "base_uri": "https://localhost:8080/"
        },
        "id": "chvNuSl0nFZM",
        "outputId": "22581770-b468-4971-980b-6e1e44a51f3a"
      },
      "outputs": [
        {
          "output_type": "stream",
          "name": "stdout",
          "text": [
            "Please enter account : 123\n",
            "Please enter account balance :456\n",
            "Your account no is 123 and your account balance is 456.0\n",
            "Please enter amount to withdraw : 250\n",
            "Please collect your cash...\n",
            "Your new balance is 206.0\n"
          ]
        }
      ],
      "source": [
        "try:\n",
        "   acc_no = int(input(\"Please enter account : \"))\n",
        "   acc_bal = float(input(\"Please enter account balance :\"))\n",
        "   print(f\"Your account no is {acc_no} and your account balance is {acc_bal}\")\n",
        "   with_amt = float(input(\"Please enter amount to withdraw : \"))\n",
        "\n",
        "   if acc_no == 123:\n",
        "    if acc_bal<=0:\n",
        "      print(\"Please enter correct withdrawal amount...\")\n",
        "    elif with_amt>acc_bal:\n",
        "      print(\"Insuffient balance..\")\n",
        "    else:\n",
        "      print(\"Please collect your cash...\")\n",
        "      new_bal = acc_bal-with_amt\n",
        "      print(f\"Your new balance is {new_bal}\")\n",
        "   else:\n",
        "     print(\"Please enter correct account no...\")\n",
        "\n",
        "except ValueError:\n",
        "      print(\"Invalid input. Please enter a valid number.\")"
      ]
    },
    {
      "cell_type": "code",
      "source": [],
      "metadata": {
        "id": "5uCQyPn-q80b"
      },
      "execution_count": null,
      "outputs": []
    },
    {
      "cell_type": "code",
      "source": [],
      "metadata": {
        "id": "UiSRp94QsT5P"
      },
      "execution_count": null,
      "outputs": []
    }
  ]
}